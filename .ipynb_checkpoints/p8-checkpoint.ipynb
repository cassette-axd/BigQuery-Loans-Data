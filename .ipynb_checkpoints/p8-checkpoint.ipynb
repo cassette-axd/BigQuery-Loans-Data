{
 "cells": [
  {
   "cell_type": "markdown",
   "id": "affbd00b-ff51-434e-bbf8-aef8cf03925f",
   "metadata": {},
   "source": [
    "# Part 1: County Data (Public Dataset)"
   ]
  },
  {
   "cell_type": "code",
   "execution_count": 1,
   "id": "09abbce2-4241-4ab6-b843-345dc68ede40",
   "metadata": {},
   "outputs": [],
   "source": [
    "from google.cloud import bigquery\n",
    "bq = bigquery.Client()"
   ]
  },
  {
   "cell_type": "code",
   "execution_count": 2,
   "id": "f39bb949-0e5e-46e1-bb9a-1dd11290e846",
   "metadata": {},
   "outputs": [
    {
     "data": {
      "text/html": [
       "<div>\n",
       "<style scoped>\n",
       "    .dataframe tbody tr th:only-of-type {\n",
       "        vertical-align: middle;\n",
       "    }\n",
       "\n",
       "    .dataframe tbody tr th {\n",
       "        vertical-align: top;\n",
       "    }\n",
       "\n",
       "    .dataframe thead th {\n",
       "        text-align: right;\n",
       "    }\n",
       "</style>\n",
       "<table border=\"1\" class=\"dataframe\">\n",
       "  <thead>\n",
       "    <tr style=\"text-align: right;\">\n",
       "      <th></th>\n",
       "      <th>num_rows</th>\n",
       "    </tr>\n",
       "  </thead>\n",
       "  <tbody>\n",
       "    <tr>\n",
       "      <th>0</th>\n",
       "      <td>3233</td>\n",
       "    </tr>\n",
       "  </tbody>\n",
       "</table>\n",
       "</div>"
      ],
      "text/plain": [
       "   num_rows\n",
       "0      3233"
      ]
     },
     "execution_count": 2,
     "metadata": {},
     "output_type": "execute_result"
    }
   ],
   "source": [
    "q = bq.query(\n",
    "\"\"\"\n",
    "select count(*) as num_rows \n",
    "from bigquery-public-data.geo_us_boundaries.counties\n",
    "\"\"\")\n",
    "q.to_dataframe()"
   ]
  },
  {
   "cell_type": "code",
   "execution_count": 3,
   "id": "d1deabfd-8f35-497e-a58e-7d2343fbf19a",
   "metadata": {},
   "outputs": [
    {
     "data": {
      "text/plain": [
       "'55025'"
      ]
     },
     "execution_count": 3,
     "metadata": {},
     "output_type": "execute_result"
    }
   ],
   "source": [
    "#q1\n",
    "\n",
    "q1 = bq.query(\n",
    "\"\"\"\n",
    "SELECT geo_id \n",
    "FROM bigquery-public-data.geo_us_boundaries.counties\n",
    "WHERE county_name = 'Dane'\n",
    "\"\"\")\n",
    "df = q1.to_dataframe()\n",
    "result = df['geo_id'].values[0]\n",
    "result"
   ]
  },
  {
   "cell_type": "code",
   "execution_count": 4,
   "id": "2e7b4534-50dd-4aca-9478-54adbab5372d",
   "metadata": {},
   "outputs": [
    {
     "data": {
      "text/plain": [
       "{'48': 254, '13': 159, '51': 133, '21': 120, '29': 115}"
      ]
     },
     "execution_count": 4,
     "metadata": {},
     "output_type": "execute_result"
    }
   ],
   "source": [
    "#q2\n",
    "\n",
    "q2 = bq.query(\n",
    "\"\"\"\n",
    "SELECT state_fips_code, COUNT(*) AS num_counties\n",
    "FROM bigquery-public-data.geo_us_boundaries.counties\n",
    "GROUP BY state_fips_code\n",
    "ORDER BY num_counties DESC\n",
    "LIMIT 5\n",
    "\"\"\")\n",
    "df = q2.to_dataframe()\n",
    "dict = df.set_index('state_fips_code')['num_counties'].to_dict()\n",
    "dict"
   ]
  },
  {
   "cell_type": "code",
   "execution_count": 5,
   "id": "bec8a957-49e4-414c-b731-4c5f45be0965",
   "metadata": {},
   "outputs": [
    {
     "data": {
      "text/plain": [
       "{'q1': 5.9604644775390625e-05, 'q2': 5.9604644775390625e-05}"
      ]
     },
     "execution_count": 5,
     "metadata": {},
     "output_type": "execute_result"
    }
   ],
   "source": [
    "#q3\n",
    "\n",
    "from google.cloud import bigquery\n",
    "q1 = bq.query(\n",
    "\"\"\"\n",
    "SELECT geo_id \n",
    "FROM bigquery-public-data.geo_us_boundaries.counties\n",
    "WHERE county_name = 'Dane'\n",
    "\"\"\",\n",
    "job_config=bigquery.QueryJobConfig(use_query_cache=False))\n",
    "\n",
    "q2 = bq.query(\n",
    "\"\"\"\n",
    "SELECT state_fips_code, COUNT(*) AS num_counties\n",
    "FROM bigquery-public-data.geo_us_boundaries.counties\n",
    "GROUP BY state_fips_code\n",
    "ORDER BY num_counties DESC\n",
    "LIMIT 5\n",
    "\"\"\",\n",
    "job_config=bigquery.QueryJobConfig(use_query_cache=False))\n",
    "\n",
    "cost1 = q1.total_bytes_billed / 1024**4\n",
    "cost1 *= 6.25\n",
    "\n",
    "cost2 = q2.total_bytes_billed / 1024**4\n",
    "cost2 *= 6.25\n",
    "\n",
    "cost_dict = {'q1': cost1, 'q2': cost2}\n",
    "cost_dict"
   ]
  },
  {
   "cell_type": "markdown",
   "id": "849c2b05-d7de-4c60-a07d-b460a5761f52",
   "metadata": {},
   "source": [
    "# Part 2: HDMA Data (Parquet in GCS)"
   ]
  },
  {
   "cell_type": "code",
   "execution_count": 6,
   "id": "331a598c-9b03-42bb-8b25-f3820091ee39",
   "metadata": {},
   "outputs": [
    {
     "data": {
      "text/plain": [
       "Dataset(DatasetReference('cs544-398623', 'p8'))"
      ]
     },
     "execution_count": 6,
     "metadata": {},
     "output_type": "execute_result"
    }
   ],
   "source": [
    "# ds = bigquery.Dataset(\"comp-sci-544-398616.p8\")\n",
    "ds = bigquery.Dataset(\"cs544-398623.p8\")\n",
    "ds"
   ]
  },
  {
   "cell_type": "code",
   "execution_count": 7,
   "id": "117f58ca-3c0c-4f10-a15b-df6d1780e74d",
   "metadata": {},
   "outputs": [
    {
     "data": {
      "text/plain": [
       "Dataset(DatasetReference('cs544-398623', 'p8'))"
      ]
     },
     "execution_count": 7,
     "metadata": {},
     "output_type": "execute_result"
    }
   ],
   "source": [
    "bq.create_dataset(ds, exists_ok=True)"
   ]
  },
  {
   "cell_type": "code",
   "execution_count": 8,
   "id": "540afff4-6bf1-440c-a350-afec3e0bb7f9",
   "metadata": {},
   "outputs": [
    {
     "data": {
      "text/plain": [
       "LoadJob<project=cs544-398623, location=US, id=fba8b673-b5db-478d-a1c0-b88fe41f70fb>"
      ]
     },
     "execution_count": 8,
     "metadata": {},
     "output_type": "execute_result"
    }
   ],
   "source": [
    "config = bigquery.LoadJobConfig(source_format=\"PARQUET\", write_disposition=\"WRITE_TRUNCATE\")\n",
    "# source = \"gs://cs544_perrito_p8/hdma-wi-2021.parquet\"\n",
    "# hdma = bq.load_table_from_uri(source, \"comp-sci-544-398616.p8.table1\", job_config=config)\n",
    "source = \"gs://cs544_perrito_p8_1/hdma-wi-2021.parquet\"\n",
    "hdma = bq.load_table_from_uri(source, \"cs544-398623.p8.table1\", job_config=config)\n",
    "hdma.result()"
   ]
  },
  {
   "cell_type": "code",
   "execution_count": 9,
   "id": "ae255909-8543-4ba3-8238-fb423de53e31",
   "metadata": {},
   "outputs": [
    {
     "data": {
      "text/plain": [
       "['p8']"
      ]
     },
     "execution_count": 9,
     "metadata": {},
     "output_type": "execute_result"
    }
   ],
   "source": [
    "#q4\n",
    "ids = []\n",
    "# for ds in bq.list_datasets(\"comp-sc544-398616\"):\n",
    "for ds in bq.list_datasets(\"cs544-398623\"):\n",
    "    ids.append(ds.dataset_id)\n",
    "ids"
   ]
  },
  {
   "cell_type": "code",
   "execution_count": 10,
   "id": "58564237-0b23-4e6d-a166-5e0cf674736f",
   "metadata": {},
   "outputs": [
    {
     "data": {
      "text/plain": [
       "{'Milwaukee': 46570,\n",
       " 'Dane': 38557,\n",
       " 'Waukesha': 34159,\n",
       " 'Brown': 15615,\n",
       " 'Racine': 13007,\n",
       " 'Outagamie': 11523,\n",
       " 'Kenosha': 10744,\n",
       " 'Washington': 10726,\n",
       " 'Rock': 9834,\n",
       " 'Winnebago': 9310}"
      ]
     },
     "execution_count": 10,
     "metadata": {},
     "output_type": "execute_result"
    }
   ],
   "source": [
    "#q5\n",
    "\n",
    "\n",
    "# bq.query(\"\"\"\n",
    "# CREATE OR REPLACE TABLE `comp-sci-544-398616.p8.wi`\n",
    "# AS\n",
    "# SELECT *\n",
    "# FROM bigquery-public-data.geo_us_boundaries.counties\n",
    "# WHERE state_fips_code = '55'\n",
    "# \"\"\")\n",
    "\n",
    "# q5 = bq.query(\n",
    "#     \"\"\"\n",
    "#     SELECT hdma.county_code, wi.county_name, COUNT(*) AS loan_term\n",
    "#     FROM `comp-sci-544-398616.p8.table1` AS hdma\n",
    "#     JOIN `comp-sci-544-398616.p8.wi` AS wi\n",
    "#     ON hdma.county_code = wi.county_fips_code\n",
    "#     GROUP BY hdma.county_code, wi.county_name\n",
    "#     ORDER BY loan_term DESC\n",
    "#     LIMIT 10\n",
    "#     \"\"\"\n",
    "# )\n",
    "\n",
    "bq.query(\"\"\"\n",
    "CREATE OR REPLACE TABLE `cs544-398623.p8.wi`\n",
    "AS\n",
    "SELECT *\n",
    "FROM bigquery-public-data.geo_us_boundaries.counties\n",
    "WHERE state_fips_code = '55'\n",
    "\"\"\")\n",
    "\n",
    "q5 = bq.query(\n",
    "    \"\"\"\n",
    "    SELECT hdma.county_code, wi.county_name, COUNT(*) AS loan_term\n",
    "    FROM `cs544-398623.p8.table1` AS hdma\n",
    "    JOIN `cs544-398623.p8.wi` AS wi\n",
    "    ON hdma.county_code = wi.county_fips_code\n",
    "    GROUP BY hdma.county_code, wi.county_name\n",
    "    ORDER BY loan_term DESC\n",
    "    LIMIT 10\n",
    "    \"\"\"\n",
    ")\n",
    "\n",
    "\n",
    "df2 = q5.to_dataframe()\n",
    "dict2 = df2.set_index('county_name')['loan_term'].to_dict()\n",
    "dict2"
   ]
  },
  {
   "cell_type": "markdown",
   "id": "cced1128-9071-47ba-bec5-17d3889b59b1",
   "metadata": {},
   "source": [
    "# Part 3: Application Data (Google Sheet Linked to Form)"
   ]
  },
  {
   "cell_type": "code",
   "execution_count": 11,
   "id": "588e89c5-b9b8-45c0-b896-aa17b430baa8",
   "metadata": {},
   "outputs": [],
   "source": [
    "url = \"https://docs.google.com/spreadsheets/d/11UeIBqQylAyNUBsIO54p6WiYJWHayQMfHDbUWq1jGco/\"\n",
    "\n",
    "external_config = bigquery.ExternalConfig(\"GOOGLE_SHEETS\")\n",
    "external_config.source_uris = [url]\n",
    "external_config.options.skip_leading_rows = 1\n",
    "external_config.autodetect = True\n",
    "\n",
    "table = bigquery.Table(\"cs544-398623.p8.applications\")\n",
    "table.external_data_configuration = external_config\n",
    "\n",
    "table = bq.create_table(table, exists_ok=True)"
   ]
  },
  {
   "cell_type": "code",
   "execution_count": 12,
   "id": "2da00460-e1c4-40ee-b1c3-657cab0fab7b",
   "metadata": {},
   "outputs": [
    {
     "data": {
      "text/plain": [
       "18"
      ]
     },
     "execution_count": 12,
     "metadata": {},
     "output_type": "execute_result"
    }
   ],
   "source": [
    "#q6\n",
    "\n",
    "q6 = bq.query(\n",
    "\"\"\"\n",
    "SELECT income\n",
    "FROM cs544-398623.p8.applications\n",
    "WHERE income = 120000\n",
    "\"\"\",\n",
    "job_config=bigquery.QueryJobConfig(use_query_cache=False))\n",
    "df = q6.to_dataframe()\n",
    "len(df)"
   ]
  },
  {
   "cell_type": "code",
   "execution_count": 13,
   "id": "29cc6064-15e5-42ea-8b6c-79e45c8c01d8",
   "metadata": {},
   "outputs": [
    {
     "data": {
      "text/plain": [
       "{'Kenosha': 1,\n",
       " 'Dane': 68,\n",
       " 'Columbia': 4,\n",
       " 'Green Lake': 2,\n",
       " 'Door': 19,\n",
       " 'St. Croix': 1,\n",
       " 'Oneida': 3,\n",
       " 'Monroe': 2,\n",
       " 'Jefferson': 2,\n",
       " 'Brown': 6,\n",
       " 'Douglas': 1,\n",
       " 'Ashland': 2,\n",
       " 'Adams': 1,\n",
       " 'Milwaukee': 4,\n",
       " 'Sheboygan': 5,\n",
       " 'Polk': 1,\n",
       " 'Marinette': 2,\n",
       " 'Kewaunee': 3,\n",
       " 'Outagamie': 1,\n",
       " 'Eau Claire': 1,\n",
       " 'Barron': 2,\n",
       " 'Manitowoc': 1,\n",
       " 'Sauk': 2,\n",
       " 'Bayfield': 5,\n",
       " 'Chippewa': 1,\n",
       " 'Walworth': 4,\n",
       " 'Wood': 2,\n",
       " 'Winnebago': 3,\n",
       " 'Iowa': 1,\n",
       " 'Ozaukee': 1,\n",
       " 'Dodge': 1,\n",
       " 'Crawford': 1,\n",
       " 'Marathon': 1}"
      ]
     },
     "execution_count": 13,
     "metadata": {},
     "output_type": "execute_result"
    }
   ],
   "source": [
    "#q7 \n",
    "\n",
    "bq.query(\"\"\"\n",
    "CREATE OR REPLACE TABLE cs544-398623.p8.houses\n",
    "AS\n",
    "SELECT *, ST_GEOGPOINT(longitude, latitude) AS loc\n",
    "FROM cs544-398623.p8.applications\n",
    "\"\"\")\n",
    "\n",
    "q7 = bq.query(\n",
    "\"\"\"\n",
    "SELECT COUNT(*) AS house_count, wi.county_name\n",
    "FROM cs544-398623.p8.houses AS houses\n",
    "CROSS JOIN cs544-398623.p8.wi AS wi\n",
    "WHERE ST_Within(houses.loc, wi.county_geom)\n",
    "GROUP BY wi.county_name\n",
    "\"\"\")\n",
    "df = q7.to_dataframe()\n",
    "dict = df.set_index('county_name')['house_count'].to_dict()\n",
    "dict"
   ]
  },
  {
   "cell_type": "markdown",
   "id": "9b7e6a6a-6824-4e70-a692-cd3287cde5f1",
   "metadata": {},
   "source": [
    "# Part 4: Machine Learning"
   ]
  },
  {
   "cell_type": "code",
   "execution_count": 14,
   "id": "c1b9018b-818f-4450-86ba-617952ab4ee8",
   "metadata": {},
   "outputs": [
    {
     "data": {
      "text/plain": [
       "QueryJob<project=cs544-398623, location=US, id=17e25061-72b5-43fe-9a72-b28f354a8926>"
      ]
     },
     "execution_count": 14,
     "metadata": {},
     "output_type": "execute_result"
    }
   ],
   "source": [
    "bq.query(\n",
    "\"\"\"\n",
    "CREATE OR REPLACE MODEL `cs544-398623.p8.lr`\n",
    "OPTIONS(model_type=\"LINEAR_REG\", INPUT_LABEL_COLS=[\"loan_amount\"])\n",
    "\n",
    "AS\n",
    "\n",
    "SELECT income, loan_term, loan_amount\n",
    "FROM `cs544-398623.p8.table1`\n",
    "\"\"\")"
   ]
  },
  {
   "cell_type": "code",
   "execution_count": 15,
   "id": "c31d01e2-3c7c-4ba0-8693-4a9d4a24981b",
   "metadata": {},
   "outputs": [],
   "source": [
    "import time\n",
    "while True:\n",
    "    if list(bq.list_models(\"cs544-398623.p8\")):  # Hint: use bq.list_models()\n",
    "        break\n",
    "    time.sleep(5)"
   ]
  },
  {
   "cell_type": "code",
   "execution_count": 16,
   "id": "f949a2c6-cc4b-472c-92de-57763c65da31",
   "metadata": {},
   "outputs": [
    {
     "data": {
      "text/plain": [
       "0.29165412288019565"
      ]
     },
     "execution_count": 16,
     "metadata": {},
     "output_type": "execute_result"
    }
   ],
   "source": [
    "#q8\n",
    "\n",
    "df = bq.query(\n",
    "\"\"\"\n",
    "SELECT *\n",
    "FROM ML.EVALUATE(MODEL `cs544-398623.p8.lr`, (\n",
    "    select income,loan_term,loan_amount\n",
    "from `cs544-398623.p8.table1`\n",
    "))\n",
    "\"\"\")\n",
    "df.to_dataframe().at[0, \"r2_score\"]"
   ]
  },
  {
   "cell_type": "code",
   "execution_count": 17,
   "id": "eb52c668-6b69-4a27-ba51-351ff7921b4c",
   "metadata": {},
   "outputs": [
    {
     "data": {
      "text/plain": [
       "0.8057773037176398"
      ]
     },
     "execution_count": 17,
     "metadata": {},
     "output_type": "execute_result"
    }
   ],
   "source": [
    "#q9\n",
    "\n",
    "df = bq.query(\n",
    "\"\"\"\n",
    "SELECT *\n",
    "FROM ML.WEIGHTS(MODEL `cs544-398623.p8.lr`)\n",
    "\"\"\")\n",
    "df.to_dataframe().loc[df.to_dataframe()[\"processed_input\"] == \"income\"].at[0, \"weight\"]"
   ]
  },
  {
   "cell_type": "code",
   "execution_count": 18,
   "id": "22f20d63-0f69-4694-b689-0093dab87ef1",
   "metadata": {},
   "outputs": [
    {
     "data": {
      "text/plain": [
       "0.603112840466926"
      ]
     },
     "execution_count": 18,
     "metadata": {},
     "output_type": "execute_result"
    }
   ],
   "source": [
    "#q10\n",
    "\n",
    "df = bq.query(\n",
    "\"\"\"\n",
    "SELECT *\n",
    "FROM ML.PREDICT(MODEL `cs544-398623.p8.lr`, (\n",
    "    select income, 360 AS loan_term,loan_amount\n",
    "from `cs544-398623.p8.applications`\n",
    "))\n",
    "\"\"\")\n",
    "\n",
    "greater_count = 0\n",
    "df = df.to_dataframe()\n",
    "for i in range(len(df)):\n",
    "    if (df.at[i, \"loan_amount\"] > df.at[i, \"predicted_loan_amount\"]):\n",
    "        greater_count += 1\n",
    "greater_count/len(df)"
   ]
  },
  {
   "cell_type": "code",
   "execution_count": null,
   "id": "c468e5ee-6a91-45de-9161-4f538c89401f",
   "metadata": {},
   "outputs": [],
   "source": []
  }
 ],
 "metadata": {
  "kernelspec": {
   "display_name": "Python 3 (ipykernel)",
   "language": "python",
   "name": "python3"
  },
  "language_info": {
   "codemirror_mode": {
    "name": "ipython",
    "version": 3
   },
   "file_extension": ".py",
   "mimetype": "text/x-python",
   "name": "python",
   "nbconvert_exporter": "python",
   "pygments_lexer": "ipython3",
   "version": "3.10.12"
  }
 },
 "nbformat": 4,
 "nbformat_minor": 5
}
