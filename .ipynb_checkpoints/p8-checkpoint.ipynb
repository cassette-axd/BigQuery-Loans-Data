{
 "cells": [
  {
   "cell_type": "code",
   "execution_count": 12,
   "id": "09abbce2-4241-4ab6-b843-345dc68ede40",
   "metadata": {},
   "outputs": [],
   "source": [
    "from google.cloud import bigquery\n",
    "bq = bigquery.Client()"
   ]
  },
  {
   "cell_type": "code",
   "execution_count": 13,
   "id": "f39bb949-0e5e-46e1-bb9a-1dd11290e846",
   "metadata": {},
   "outputs": [
    {
     "data": {
      "text/html": [
       "<div>\n",
       "<style scoped>\n",
       "    .dataframe tbody tr th:only-of-type {\n",
       "        vertical-align: middle;\n",
       "    }\n",
       "\n",
       "    .dataframe tbody tr th {\n",
       "        vertical-align: top;\n",
       "    }\n",
       "\n",
       "    .dataframe thead th {\n",
       "        text-align: right;\n",
       "    }\n",
       "</style>\n",
       "<table border=\"1\" class=\"dataframe\">\n",
       "  <thead>\n",
       "    <tr style=\"text-align: right;\">\n",
       "      <th></th>\n",
       "      <th>num_rows</th>\n",
       "    </tr>\n",
       "  </thead>\n",
       "  <tbody>\n",
       "    <tr>\n",
       "      <th>0</th>\n",
       "      <td>3233</td>\n",
       "    </tr>\n",
       "  </tbody>\n",
       "</table>\n",
       "</div>"
      ],
      "text/plain": [
       "   num_rows\n",
       "0      3233"
      ]
     },
     "execution_count": 13,
     "metadata": {},
     "output_type": "execute_result"
    }
   ],
   "source": [
    "q = bq.query(\n",
    "\"\"\"\n",
    "select count(*) as num_rows \n",
    "from bigquery-public-data.geo_us_boundaries.counties\n",
    "\"\"\")\n",
    "q.to_dataframe()"
   ]
  },
  {
   "cell_type": "code",
   "execution_count": 14,
   "id": "d1deabfd-8f35-497e-a58e-7d2343fbf19a",
   "metadata": {},
   "outputs": [
    {
     "data": {
      "text/plain": [
       "'55025'"
      ]
     },
     "execution_count": 14,
     "metadata": {},
     "output_type": "execute_result"
    }
   ],
   "source": [
    "#q1\n",
    "\n",
    "q1 = bq.query(\n",
    "\"\"\"\n",
    "SELECT geo_id \n",
    "FROM bigquery-public-data.geo_us_boundaries.counties\n",
    "WHERE county_name = 'Dane'\n",
    "\"\"\")\n",
    "df = q1.to_dataframe()\n",
    "result = df['geo_id'].values[0]\n",
    "result"
   ]
  },
  {
   "cell_type": "code",
   "execution_count": 15,
   "id": "2e7b4534-50dd-4aca-9478-54adbab5372d",
   "metadata": {},
   "outputs": [
    {
     "data": {
      "text/plain": [
       "{'48': 254, '13': 159, '51': 133, '21': 120, '29': 115}"
      ]
     },
     "execution_count": 15,
     "metadata": {},
     "output_type": "execute_result"
    }
   ],
   "source": [
    "#q2\n",
    "\n",
    "q2 = bq.query(\n",
    "\"\"\"\n",
    "SELECT state_fips_code, COUNT(*) AS num_counties\n",
    "FROM bigquery-public-data.geo_us_boundaries.counties\n",
    "GROUP BY state_fips_code\n",
    "ORDER BY num_counties DESC\n",
    "LIMIT 5\n",
    "\"\"\")\n",
    "df = q2.to_dataframe()\n",
    "dict = df.set_index('state_fips_code')['num_counties'].to_dict()\n",
    "dict"
   ]
  },
  {
   "cell_type": "code",
   "execution_count": 24,
   "id": "bec8a957-49e4-414c-b731-4c5f45be0965",
   "metadata": {},
   "outputs": [
    {
     "data": {
      "text/plain": [
       "{'q1': 5.9604644775390625e-05, 'q2': 5.9604644775390625e-05}"
      ]
     },
     "execution_count": 24,
     "metadata": {},
     "output_type": "execute_result"
    }
   ],
   "source": [
    "#q3\n",
    "\n",
    "from google.cloud import bigquery\n",
    "q1 = bq.query(\n",
    "\"\"\"\n",
    "SELECT geo_id \n",
    "FROM bigquery-public-data.geo_us_boundaries.counties\n",
    "WHERE county_name = 'Dane'\n",
    "\"\"\",\n",
    "job_config=bigquery.QueryJobConfig(use_query_cache=False))\n",
    "\n",
    "q2 = bq.query(\n",
    "\"\"\"\n",
    "SELECT state_fips_code, COUNT(*) AS num_counties\n",
    "FROM bigquery-public-data.geo_us_boundaries.counties\n",
    "GROUP BY state_fips_code\n",
    "ORDER BY num_counties DESC\n",
    "LIMIT 5\n",
    "\"\"\",\n",
    "job_config=bigquery.QueryJobConfig(use_query_cache=False))\n",
    "\n",
    "cost1 = q1.total_bytes_billed / 1024**4\n",
    "cost1 *= 6.25\n",
    "\n",
    "cost2 = q2.total_bytes_billed / 1024**4\n",
    "cost2 *= 6.25\n",
    "\n",
    "cost_dict = {'q1': cost1, 'q2': cost2}\n",
    "cost_dict"
   ]
  },
  {
   "cell_type": "code",
   "execution_count": null,
   "id": "d9b9d552-fa79-4086-a7b2-a2ce354ea75a",
   "metadata": {},
   "outputs": [],
   "source": []
  }
 ],
 "metadata": {
  "kernelspec": {
   "display_name": "Python 3 (ipykernel)",
   "language": "python",
   "name": "python3"
  },
  "language_info": {
   "codemirror_mode": {
    "name": "ipython",
    "version": 3
   },
   "file_extension": ".py",
   "mimetype": "text/x-python",
   "name": "python",
   "nbconvert_exporter": "python",
   "pygments_lexer": "ipython3",
   "version": "3.10.12"
  }
 },
 "nbformat": 4,
 "nbformat_minor": 5
}
