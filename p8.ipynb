{
 "cells": [
  {
   "cell_type": "markdown",
   "id": "affbd00b-ff51-434e-bbf8-aef8cf03925f",
   "metadata": {},
   "source": [
    "## Part 1: County Data (Public Dataset)"
   ]
  },
  {
   "cell_type": "code",
   "execution_count": 2,
   "id": "09abbce2-4241-4ab6-b843-345dc68ede40",
   "metadata": {},
   "outputs": [],
   "source": [
    "from google.cloud import bigquery\n",
    "bq = bigquery.Client()"
   ]
  },
  {
   "cell_type": "code",
   "execution_count": 3,
   "id": "f39bb949-0e5e-46e1-bb9a-1dd11290e846",
   "metadata": {},
   "outputs": [
    {
     "data": {
      "text/html": [
       "<div>\n",
       "<style scoped>\n",
       "    .dataframe tbody tr th:only-of-type {\n",
       "        vertical-align: middle;\n",
       "    }\n",
       "\n",
       "    .dataframe tbody tr th {\n",
       "        vertical-align: top;\n",
       "    }\n",
       "\n",
       "    .dataframe thead th {\n",
       "        text-align: right;\n",
       "    }\n",
       "</style>\n",
       "<table border=\"1\" class=\"dataframe\">\n",
       "  <thead>\n",
       "    <tr style=\"text-align: right;\">\n",
       "      <th></th>\n",
       "      <th>num_rows</th>\n",
       "    </tr>\n",
       "  </thead>\n",
       "  <tbody>\n",
       "    <tr>\n",
       "      <th>0</th>\n",
       "      <td>3233</td>\n",
       "    </tr>\n",
       "  </tbody>\n",
       "</table>\n",
       "</div>"
      ],
      "text/plain": [
       "   num_rows\n",
       "0      3233"
      ]
     },
     "execution_count": 3,
     "metadata": {},
     "output_type": "execute_result"
    }
   ],
   "source": [
    "q = bq.query(\n",
    "\"\"\"\n",
    "select count(*) as num_rows \n",
    "from bigquery-public-data.geo_us_boundaries.counties\n",
    "\"\"\")\n",
    "q.to_dataframe()"
   ]
  },
  {
   "cell_type": "code",
   "execution_count": 4,
   "id": "d1deabfd-8f35-497e-a58e-7d2343fbf19a",
   "metadata": {},
   "outputs": [
    {
     "data": {
      "text/plain": [
       "'55025'"
      ]
     },
     "execution_count": 4,
     "metadata": {},
     "output_type": "execute_result"
    }
   ],
   "source": [
    "#q1\n",
    "\n",
    "q1 = bq.query(\n",
    "\"\"\"\n",
    "SELECT geo_id \n",
    "FROM bigquery-public-data.geo_us_boundaries.counties\n",
    "WHERE county_name = 'Dane'\n",
    "\"\"\")\n",
    "df = q1.to_dataframe()\n",
    "result = df['geo_id'].values[0]\n",
    "result"
   ]
  },
  {
   "cell_type": "code",
   "execution_count": 5,
   "id": "2e7b4534-50dd-4aca-9478-54adbab5372d",
   "metadata": {},
   "outputs": [
    {
     "data": {
      "text/plain": [
       "{'48': 254, '13': 159, '51': 133, '21': 120, '29': 115}"
      ]
     },
     "execution_count": 5,
     "metadata": {},
     "output_type": "execute_result"
    }
   ],
   "source": [
    "#q2\n",
    "\n",
    "q2 = bq.query(\n",
    "\"\"\"\n",
    "SELECT state_fips_code, COUNT(*) AS num_counties\n",
    "FROM bigquery-public-data.geo_us_boundaries.counties\n",
    "GROUP BY state_fips_code\n",
    "ORDER BY num_counties DESC\n",
    "LIMIT 5\n",
    "\"\"\")\n",
    "df = q2.to_dataframe()\n",
    "dict = df.set_index('state_fips_code')['num_counties'].to_dict()\n",
    "dict"
   ]
  },
  {
   "cell_type": "code",
   "execution_count": 6,
   "id": "bec8a957-49e4-414c-b731-4c5f45be0965",
   "metadata": {},
   "outputs": [
    {
     "data": {
      "text/plain": [
       "{'q1': 5.9604644775390625e-05, 'q2': 5.9604644775390625e-05}"
      ]
     },
     "execution_count": 6,
     "metadata": {},
     "output_type": "execute_result"
    }
   ],
   "source": [
    "#q3\n",
    "\n",
    "from google.cloud import bigquery\n",
    "q1 = bq.query(\n",
    "\"\"\"\n",
    "SELECT geo_id \n",
    "FROM bigquery-public-data.geo_us_boundaries.counties\n",
    "WHERE county_name = 'Dane'\n",
    "\"\"\",\n",
    "job_config=bigquery.QueryJobConfig(use_query_cache=False))\n",
    "\n",
    "q2 = bq.query(\n",
    "\"\"\"\n",
    "SELECT state_fips_code, COUNT(*) AS num_counties\n",
    "FROM bigquery-public-data.geo_us_boundaries.counties\n",
    "GROUP BY state_fips_code\n",
    "ORDER BY num_counties DESC\n",
    "LIMIT 5\n",
    "\"\"\",\n",
    "job_config=bigquery.QueryJobConfig(use_query_cache=False))\n",
    "\n",
    "cost1 = q1.total_bytes_billed / 1024**4\n",
    "cost1 *= 6.25\n",
    "\n",
    "cost2 = q2.total_bytes_billed / 1024**4\n",
    "cost2 *= 6.25\n",
    "\n",
    "cost_dict = {'q1': cost1, 'q2': cost2}\n",
    "cost_dict"
   ]
  },
  {
   "cell_type": "markdown",
   "id": "849c2b05-d7de-4c60-a07d-b460a5761f52",
   "metadata": {},
   "source": [
    "## Part 2: HDMA Data (Parquet in GCS)"
   ]
  },
  {
   "cell_type": "code",
   "execution_count": 18,
   "id": "331a598c-9b03-42bb-8b25-f3820091ee39",
   "metadata": {},
   "outputs": [
    {
     "data": {
      "text/plain": [
       "Dataset(DatasetReference('comp-sci-544-398616', 'p8'))"
      ]
     },
     "execution_count": 18,
     "metadata": {},
     "output_type": "execute_result"
    }
   ],
   "source": [
    "ds = bigquery.Dataset(\"comp-sci-544-398616.p8\")\n",
    "ds"
   ]
  },
  {
   "cell_type": "code",
   "execution_count": 19,
   "id": "117f58ca-3c0c-4f10-a15b-df6d1780e74d",
   "metadata": {},
   "outputs": [
    {
     "data": {
      "text/plain": [
       "Dataset(DatasetReference('comp-sci-544-398616', 'p8'))"
      ]
     },
     "execution_count": 19,
     "metadata": {},
     "output_type": "execute_result"
    }
   ],
   "source": [
    "bq.create_dataset(ds, exists_ok=True)"
   ]
  },
  {
   "cell_type": "code",
   "execution_count": 20,
   "id": "540afff4-6bf1-440c-a350-afec3e0bb7f9",
   "metadata": {},
   "outputs": [
    {
     "data": {
      "text/plain": [
       "LoadJob<project=comp-sci-544-398616, location=US, id=33d06f8d-32c9-4967-8ac7-d9366867875d>"
      ]
     },
     "execution_count": 20,
     "metadata": {},
     "output_type": "execute_result"
    }
   ],
   "source": [
    "config = bigquery.LoadJobConfig(source_format=\"PARQUET\", write_disposition=\"WRITE_TRUNCATE\")\n",
    "source = \"gs://cs544_perrito_p8/hdma-wi-2021.parquet\"\n",
    "hdma = bq.load_table_from_uri(source, \"comp-sci-544-398616.p8.table1\", job_config=config)\n",
    "hdma.result()"
   ]
  },
  {
   "cell_type": "code",
   "execution_count": 21,
   "id": "ae255909-8543-4ba3-8238-fb423de53e31",
   "metadata": {},
   "outputs": [
    {
     "name": "stdout",
     "output_type": "stream",
     "text": [
      "p8\n"
     ]
    }
   ],
   "source": [
    "#q4\n",
    "\n",
    "for ds in bq.list_datasets(\"comp-sci-544-398616\"):\n",
    "    print(ds.dataset_id)"
   ]
  },
  {
   "cell_type": "code",
   "execution_count": 180,
   "id": "58564237-0b23-4e6d-a166-5e0cf674736f",
   "metadata": {},
   "outputs": [
    {
     "data": {
      "text/plain": [
       "{'Milwaukee': 46570,\n",
       " 'Dane': 38557,\n",
       " 'Waukesha': 34159,\n",
       " 'Brown': 15615,\n",
       " 'Racine': 13007,\n",
       " 'Outagamie': 11523,\n",
       " 'Kenosha': 10744,\n",
       " 'Washington': 10726,\n",
       " 'Rock': 9834,\n",
       " 'Winnebago': 9310}"
      ]
     },
     "execution_count": 180,
     "metadata": {},
     "output_type": "execute_result"
    }
   ],
   "source": [
    "#q5\n",
    "\n",
    "bq.query(\"\"\"\n",
    "CREATE OR REPLACE TABLE `comp-sci-544-398616.p8.wi`\n",
    "AS\n",
    "SELECT *\n",
    "FROM bigquery-public-data.geo_us_boundaries.counties\n",
    "WHERE state_fips_code = '55'\n",
    "\"\"\")\n",
    "\n",
    "q3 = bq.query(\n",
    "    \"\"\"\n",
    "    SELECT hdma.county_code, wi.county_name, COUNT(*) AS loan_term\n",
    "    FROM `comp-sci-544-398616.p8.table1` AS hdma\n",
    "    JOIN `comp-sci-544-398616.p8.wi` AS wi\n",
    "    ON hdma.county_code = wi.county_fips_code\n",
    "    GROUP BY hdma.county_code, wi.county_name\n",
    "    ORDER BY loan_term DESC\n",
    "    LIMIT 10\n",
    "    \"\"\"\n",
    ")\n",
    "\n",
    "df2 = q3.to_dataframe()\n",
    "dict2 = df2.set_index('county_name')['loan_term'].to_dict()\n",
    "dict2"
   ]
  },
  {
   "cell_type": "code",
   "execution_count": null,
   "id": "588e89c5-b9b8-45c0-b896-aa17b430baa8",
   "metadata": {},
   "outputs": [],
   "source": []
  }
 ],
 "metadata": {
  "kernelspec": {
   "display_name": "Python 3 (ipykernel)",
   "language": "python",
   "name": "python3"
  },
  "language_info": {
   "codemirror_mode": {
    "name": "ipython",
    "version": 3
   },
   "file_extension": ".py",
   "mimetype": "text/x-python",
   "name": "python",
   "nbconvert_exporter": "python",
   "pygments_lexer": "ipython3",
   "version": "3.10.12"
  }
 },
 "nbformat": 4,
 "nbformat_minor": 5
}
